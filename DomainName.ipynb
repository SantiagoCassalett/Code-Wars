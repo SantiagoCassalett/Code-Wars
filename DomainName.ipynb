{
 "cells": [
  {
   "cell_type": "code",
   "execution_count": null,
   "metadata": {},
   "outputs": [],
   "source": [
    "#Extract the Domain Name from a URL\n",
    "\n",
    "#Write a function that when given a URL as a string, parses out just the domain name and returns it as a string"
   ]
  },
  {
   "cell_type": "code",
   "execution_count": null,
   "metadata": {},
   "outputs": [],
   "source": [
    "#My solution\n",
    "\n",
    "def domain_name(url):\n",
    "    if re.findall(\"^(http?|www?)\", url):\n",
    "        if url.startswith(\"http\"):\n",
    "            if url.split(\"/\")[2].startswith(\"www.\"):\n",
    "                return url.split('.')[1]\n",
    "            else:\n",
    "                return url.split('/')[2].split('.')[0]\n",
    "        else:\n",
    "            return url.split('.')[1]\n",
    "    else:\n",
    "        return url.split('.')[0]"
   ]
  },
  {
   "cell_type": "code",
   "execution_count": null,
   "metadata": {},
   "outputs": [],
   "source": [
    "#Much better solution\n",
    "\n",
    "def domain_name(url):\n",
    "    return url.split(\"//\")[-1].split(\"www.\")[-1].split(\".\")[0]"
   ]
  }
 ],
 "metadata": {
  "kernelspec": {
   "display_name": "Python 3",
   "language": "python",
   "name": "python3"
  },
  "language_info": {
   "codemirror_mode": {
    "name": "ipython",
    "version": 3
   },
   "file_extension": ".py",
   "mimetype": "text/x-python",
   "name": "python",
   "nbconvert_exporter": "python",
   "pygments_lexer": "ipython3",
   "version": "3.7.5"
  }
 },
 "nbformat": 4,
 "nbformat_minor": 4
}
