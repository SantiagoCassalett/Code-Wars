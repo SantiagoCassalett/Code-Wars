{
 "cells": [
  {
   "cell_type": "code",
   "execution_count": null,
   "metadata": {},
   "outputs": [],
   "source": [
    "#Scramblies\n",
    "# Complete the function scramble(str1, str2) that returns true if a portion of str1 characters\n",
    "# can be rearranged to match str2, otherwise returns false.\n",
    "\n",
    "#Notes:\n",
    "\n",
    "#Only lower case letters will be used (a-z). No punctuation or digits will be included.\n",
    "#Performance needs to be considered"
   ]
  },
  {
   "cell_type": "code",
   "execution_count": null,
   "metadata": {},
   "outputs": [],
   "source": [
    "#My solution\n",
    "from collections import Counter\n",
    "\n",
    "def scramble(s1, s2):\n",
    "    c1, c2 = Counter(s1), Counter(s2)\n",
    "    c3 = set(c1.keys()).intersection(set(c2.keys()))\n",
    "    return all([c1.get(letter) >= c2.get(letter) if len(set(c1.keys()).intersection(set(c2.keys()))) == len(c2) \n",
    "                else False for letter in c3])"
   ]
  },
  {
   "cell_type": "code",
   "execution_count": null,
   "metadata": {},
   "outputs": [],
   "source": [
    "#Much better solution\n",
    "def scramble(s1,s2):\n",
    "    for c in set(s2):\n",
    "        if s1.count(c) < s2.count(c):\n",
    "            return False\n",
    "    return True"
   ]
  }
 ],
 "metadata": {
  "kernelspec": {
   "display_name": "Python 3",
   "language": "python",
   "name": "python3"
  },
  "language_info": {
   "codemirror_mode": {
    "name": "ipython",
    "version": 3
   },
   "file_extension": ".py",
   "mimetype": "text/x-python",
   "name": "python",
   "nbconvert_exporter": "python",
   "pygments_lexer": "ipython3",
   "version": "3.7.5"
  }
 },
 "nbformat": 4,
 "nbformat_minor": 4
}
