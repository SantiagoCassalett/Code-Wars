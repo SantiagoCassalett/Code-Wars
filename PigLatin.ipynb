{
 "cells": [
  {
   "cell_type": "code",
   "execution_count": null,
   "metadata": {},
   "outputs": [],
   "source": [
    "#Simple Pig Latin\n",
    "# Move the first letter of each word to the end of it, \n",
    "# then add \"ay\" to the end of the word. Leave punctuation marks untouched."
   ]
  },
  {
   "cell_type": "code",
   "execution_count": null,
   "metadata": {},
   "outputs": [],
   "source": [
    "#My solution\n",
    "\n",
    "import re\n",
    "\n",
    "def pig_it(text):\n",
    "    \n",
    "    words = text.split(\" \")\n",
    "\n",
    "    piglatin = []\n",
    "\n",
    "    for word in words:\n",
    "        if re.match(\"[a-zA-Z]\", word):\n",
    "            if len(word) < 2:\n",
    "                piglatin.append(word[:1] + word.replace(word[:1],\"ay\"))\n",
    "            else:\n",
    "                piglatin.append(word[1:] + word.replace(word[1:],\"ay\"))\n",
    "        else:\n",
    "            piglatin.append(word)\n",
    "    return \" \".join(piglatin)"
   ]
  },
  {
   "cell_type": "code",
   "execution_count": null,
   "metadata": {},
   "outputs": [],
   "source": [
    "#Much better solution\n",
    "\n",
    "def pig_it(text):\n",
    "    lst = text.split()\n",
    "    return ' '.join( [word[1:] + word[:1] + 'ay' if word.isalpha() else word for word in lst])"
   ]
  }
 ],
 "metadata": {
  "kernelspec": {
   "display_name": "Python 3",
   "language": "python",
   "name": "python3"
  },
  "language_info": {
   "codemirror_mode": {
    "name": "ipython",
    "version": 3
   },
   "file_extension": ".py",
   "mimetype": "text/x-python",
   "name": "python",
   "nbconvert_exporter": "python",
   "pygments_lexer": "ipython3",
   "version": "3.7.5"
  }
 },
 "nbformat": 4,
 "nbformat_minor": 4
}
