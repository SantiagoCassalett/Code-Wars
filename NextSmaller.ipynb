{
 "cells": [
  {
   "cell_type": "code",
   "execution_count": null,
   "metadata": {},
   "outputs": [],
   "source": [
    "#Next Smaller Number\n",
    "\n",
    "#Write a function that takes a positive integer and \n",
    "#returns the next smaller positive integer containing the same digits."
   ]
  },
  {
   "cell_type": "code",
   "execution_count": null,
   "metadata": {},
   "outputs": [],
   "source": [
    "#My solution\n",
    "\n",
    "def next_smaller(n):\n",
    "    array = list(str(n))\n",
    "    i = max((i for i in range(1, len(array)) if array[i-1] > array [i]),\\\n",
    "            default = 'no')\n",
    "    if i == 'no':\n",
    "        return(-1)\n",
    "    j = max((j for j in range(i, len(array)) if array[j] < array[i-1]),\\\n",
    "           default = 'no')\n",
    "    if j == 'no':\n",
    "        return(-1)\n",
    "    array[j], array[i-1] = array[i-1], array[j]\n",
    "    array[i:] = reversed(array[i:])\n",
    "    array2 = int(\"\".join(array))\n",
    "    if len(str(array2)) != len(array):\n",
    "        return(-1)\n",
    "    return(array2)"
   ]
  }
 ],
 "metadata": {
  "kernelspec": {
   "display_name": "Python 3",
   "language": "python",
   "name": "python3"
  },
  "language_info": {
   "codemirror_mode": {
    "name": "ipython",
    "version": 3
   },
   "file_extension": ".py",
   "mimetype": "text/x-python",
   "name": "python",
   "nbconvert_exporter": "python",
   "pygments_lexer": "ipython3",
   "version": "3.7.5"
  }
 },
 "nbformat": 4,
 "nbformat_minor": 4
}
