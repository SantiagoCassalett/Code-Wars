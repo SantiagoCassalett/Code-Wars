{
 "cells": [
  {
   "cell_type": "code",
   "execution_count": 2,
   "metadata": {},
   "outputs": [],
   "source": [
    "#SpinWords (from CodeWars):\n",
    "# Write a function that takes in a string of one or more words, \n",
    "# and returns the same string, but with all five or more letter words reversed (Just like the name of this Kata). \n",
    "# Strings passed in will consist of only letters and spaces. \n",
    "# Spaces will be included only when more than one word is present.\n",
    "\n",
    "#Examples: spinWords( \"Hey fellow warriors\" ) => \n",
    "# returns \"Hey wollef sroirraw\" spinWords( \"This is a test\") => returns \n",
    "# \"This is a test\" spinWords( \"This is another test\" )=> returns \"This is rehtona test\""
   ]
  },
  {
   "cell_type": "code",
   "execution_count": null,
   "metadata": {},
   "outputs": [],
   "source": [
    "#My solution\n",
    "\n",
    "def spin_words(sentence):\n",
    "    stringwords = sentence.split()\n",
    "    revtogether = []\n",
    "    \n",
    "    for word in stringwords:\n",
    "        if len(word) >= 5:\n",
    "            rev = word[::-1]\n",
    "            revtogether.append(rev)\n",
    "        \n",
    "        else:\n",
    "            revtogether.append(word)\n",
    "    \n",
    "    revtogether = ' '.join(revtogether)\n",
    "    \n",
    "    return revtogether\n",
    "\n"
   ]
  },
  {
   "cell_type": "code",
   "execution_count": null,
   "metadata": {},
   "outputs": [],
   "source": [
    "#Better solution\n",
    "\n",
    "def spin_words(sentence):\n",
    "    # Your code goes here\n",
    "    return \" \".join([x[::-1] if len(x) >= 5 else x for x in sentence.split(\" \")])"
   ]
  }
 ],
 "metadata": {
  "kernelspec": {
   "display_name": "Python 3",
   "language": "python",
   "name": "python3"
  },
  "language_info": {
   "codemirror_mode": {
    "name": "ipython",
    "version": 3
   },
   "file_extension": ".py",
   "mimetype": "text/x-python",
   "name": "python",
   "nbconvert_exporter": "python",
   "pygments_lexer": "ipython3",
   "version": "3.7.5"
  }
 },
 "nbformat": 4,
 "nbformat_minor": 4
}
